{
 "cells": [
  {
   "cell_type": "code",
   "execution_count": 17,
   "metadata": {},
   "outputs": [
    {
     "data": {
      "text/plain": [
       "31"
      ]
     },
     "execution_count": 17,
     "metadata": {},
     "output_type": "execute_result"
    }
   ],
   "source": [
    "import os\n",
    "import requests\n",
    "import pandas as pd\n",
    "import json\n",
    "from sqlalchemy import create_engine\n",
    "from dotenv import load_dotenv\n",
    "\n",
    "load_dotenv()\n",
    "\n",
    "url = os.getenv('API_URL')\n",
    "\n",
    "response = requests.get(url)\n",
    "\n",
    "json_str = response.content\n",
    "\n",
    "if isinstance(json_str, bytes):\n",
    "    json_str = json_str.decode('utf-8')\n",
    "\n",
    "data = json.loads(json_str)\n",
    "\n",
    "df = pd.DataFrame(data)\n",
    "\n",
    "username = os.getenv('DB_USERNAME')\n",
    "password = os.getenv('DB_PASSWORD')\n",
    "host = os.getenv('DB_HOST')\n",
    "port = int(os.getenv('DB_PORT'))\n",
    "\n",
    "engine = create_engine(f'mysql+mysqldb://{username}:{password}@{host}:{port}/uwgym', echo=False)\n",
    "\n",
    "df.to_sql(name='uwgyms', con=engine, if_exists='append', index=False)"
   ]
  },
  {
   "cell_type": "code",
   "execution_count": null,
   "metadata": {},
   "outputs": [],
   "source": []
  }
 ],
 "metadata": {
  "kernelspec": {
   "display_name": "Python 3",
   "language": "python",
   "name": "python3"
  },
  "language_info": {
   "codemirror_mode": {
    "name": "ipython",
    "version": 3
   },
   "file_extension": ".py",
   "mimetype": "text/x-python",
   "name": "python",
   "nbconvert_exporter": "python",
   "pygments_lexer": "ipython3",
   "version": "3.10.10"
  }
 },
 "nbformat": 4,
 "nbformat_minor": 2
}
